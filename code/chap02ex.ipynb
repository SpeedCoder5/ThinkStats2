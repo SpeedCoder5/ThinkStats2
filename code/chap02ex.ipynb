{
 "worksheets": [
  {
   "cells": [
    {
     "cell_type": "code",
     "execution_count": null,
     "metadata": {},
     "outputs": [
      {
       "output_type": "pyout",
       "prompt_number": 2,
       "text": [
        "'/home/user/ds/metis/prework/PycharmProjects/ThinkStats2/code'"
       ],
       "metadata": {}
      }
     ],
     "input": [
      "import inspect, ipycharmfix\n",
      "ipycharmfix.fixipycharm(inspect.currentframe())"
     ],
     "language": "python",
     "prompt_number": 2
    },
    {
     "cell_type": "markdown",
     "metadata": {},
     "source": [
      "Exercise from Think Stats, 2nd Edition (thinkstats2.com)<br>\n",
      "Allen Downey\n",
      "\n",
      "Read the female respondent file and display the variables names."
     ]
    },
    {
     "cell_type": "code",
     "execution_count": null,
     "metadata": {},
     "outputs": [
      {
       "output_type": "pyout",
       "prompt_number": 3,
       "text": [
        "Index(['caseid', 'rscrinf', 'rdormres', 'rostscrn', 'rscreenhisp',\n       'rscreenrace', 'age_a', 'age_r', 'cmbirth', 'agescrn',\n       ...\n       'pubassis_i', 'basewgt', 'adj_mod_basewgt', 'finalwgt', 'secu_r',\n       'sest', 'cmintvw', 'cmlstyr', 'screentime', 'intvlngth'],\n      dtype='object', length=3087)"
       ],
       "metadata": {}
      }
     ],
     "input": [
      "%matplotlib inline\n",
      "\n",
      "import chap01soln\n",
      "resp = chap01soln.ReadFemResp()\n",
      "resp.columns"
     ],
     "language": "python",
     "prompt_number": 3
    },
    {
     "cell_type": "markdown",
     "metadata": {},
     "source": [
      "Make a histogram of <tt>totincr</tt> the total income for the respondent's family.  To interpret the codes see the [codebook](http://www.icpsr.umich.edu/nsfg6/Controller?displayPage=labelDetails&fileCode=MALE&section=R&subSec=7958&srtLabel=609776)."
     ]
    },
    {
     "cell_type": "code",
     "execution_count": null,
     "metadata": {},
     "outputs": [],
     "input": [
      "import thinkstats2\n",
      "hist = thinkstats2.Hist(resp.totincr)"
     ],
     "language": "python",
     "prompt_number": 4
    },
    {
     "cell_type": "markdown",
     "metadata": {},
     "source": [
      "Display the histogram."
     ]
    },
    {
     "cell_type": "code",
     "execution_count": null,
     "metadata": {},
     "outputs": [
      {
       "output_type": "display_data",
       "png": "[encoded data removed]",
       "text": [
        "<matplotlib.figure.Figure at 0x7f3d93c6b860>"
       ],
       "metadata": {}
      }
     ],
     "input": [
      "import thinkplot\n",
      "thinkplot.Hist(hist, label='totincr')\n",
      "#thinkplot.Show()"
     ],
     "language": "python",
     "prompt_number": 11
    },
    {
     "cell_type": "markdown",
     "metadata": {},
     "source": [
      "Make a histogram of <tt>age_r</tt>, the respondent's age at the time of interview."
     ]
    },
    {
     "cell_type": "code",
     "execution_count": null,
     "metadata": {},
     "outputs": [
      {
       "output_type": "display_data",
       "png": "[encoded data removed]",
       "text": [
        "<matplotlib.figure.Figure at 0x7f3d93cefef0>"
       ],
       "metadata": {}
      }
     ],
     "input": [
      "hist = thinkstats2.Hist(resp.age_r)\n",
      "thinkplot.Hist(hist, label='age_r')\n",
      "#thinkplot.Show()"
     ],
     "language": "python",
     "prompt_number": 12
    },
    {
     "cell_type": "markdown",
     "metadata": {},
     "source": [
      "Make a histogram of <tt>numfmhh</tt>, the number of people in the respondent's household."
     ]
    },
    {
     "cell_type": "code",
     "execution_count": null,
     "metadata": {},
     "outputs": [
      {
       "output_type": "display_data",
       "png": "[encoded data removed]",
       "text": [
        "<matplotlib.figure.Figure at 0x7f3d93cefd68>"
       ],
       "metadata": {}
      }
     ],
     "input": [
      "hist = thinkstats2.Hist(resp.numfmhh)\n",
      "thinkplot.Hist(hist, label=\"numfmhh\")\n",
      "#thinkplot.Show()"
     ],
     "language": "python",
     "prompt_number": 19
    },
    {
     "cell_type": "markdown",
     "metadata": {},
     "source": [
      "Make a histogram of <tt>parity</tt>, the number children the respondent has borne.  How would you describe this distribution?"
     ]
    },
    {
     "cell_type": "code",
     "execution_count": null,
     "metadata": {},
     "outputs": [
      {
       "output_type": "stream",
       "stream": "stdout",
       "text": [
        "Hist({0: 3230, 1: 1519, 2: 1603, 3: 828, 4: 309, 5: 95, 6: 29, 7: 15, 8: 8, 9: 2, 10: 3, 16: 1, 22: 1})\n"
       ]
      },
      {
       "output_type": "display_data",
       "png": "[encoded data removed]",
       "text": [
        "<matplotlib.figure.Figure at 0x7f3d9d13f940>"
       ],
       "metadata": {}
      },
      {
       "output_type": "pyout",
       "prompt_number": 0,
       "text": [
        "<matplotlib.figure.Figure at 0x7f3d93c30390>"
       ],
       "metadata": {}
      }
     ],
     "input": [
      "hist = thinkstats2.Hist(resp.parity)\n",
      "print(hist)\n",
      "thinkplot.Hist(hist, label=\"parity\")\n",
      "thinkplot.Show()"
     ],
     "language": "python",
     "prompt_number": 22
    },
    {
     "cell_type": "markdown",
     "metadata": {},
     "source": [
      "Use Hist.Largest to find the largest values of <tt>parity</tt>."
     ]
    },
    {
     "cell_type": "code",
     "execution_count": null,
     "metadata": {},
     "outputs": [
      {
       "output_type": "pyout",
       "prompt_number": 17,
       "text": [
        "[(22, 1),\n (16, 1),\n (10, 3),\n (9, 2),\n (8, 8),\n (7, 15),\n (6, 29),\n (5, 95),\n (4, 309),\n (3, 828),\n (2, 1603),\n (1, 1519),\n (0, 3230)]"
       ],
       "metadata": {}
      }
     ],
     "input": [
      "hist.Largest(len(hist))"
     ],
     "language": "python",
     "prompt_number": 17
    },
    {
     "cell_type": "markdown",
     "metadata": {},
     "source": [
      "Use <tt>totincr</tt> to select the respondents with the highest income.  Compute the distribution of <tt>parity</tt> for just the high income respondents."
     ]
    },
    {
     "cell_type": "code",
     "execution_count": null,
     "metadata": {},
     "outputs": [
      {
       "output_type": "display_data",
       "png": "[encoded data removed]",
       "text": [
        "<matplotlib.figure.Figure at 0x7f3d9d83ae10>"
       ],
       "metadata": {}
      },
      {
       "output_type": "pyout",
       "prompt_number": 0,
       "text": [
        "<matplotlib.figure.Figure at 0x7f3d93ce77b8>"
       ],
       "metadata": {}
      }
     ],
     "input": [
      "rich = resp[resp.totincr == 14]\n",
      "hist = thinkstats2.Hist(rich.parity)\n",
      "thinkplot.Hist(hist, label=\"parity\")\n",
      "thinkplot.Show()"
     ],
     "language": "python",
     "prompt_number": 21
    },
    {
     "cell_type": "markdown",
     "metadata": {},
     "source": [
      "Find the largest parities for high income respondents."
     ]
    },
    {
     "cell_type": "code",
     "execution_count": null,
     "metadata": {},
     "outputs": [
      {
       "output_type": "pyout",
       "prompt_number": 25,
       "text": [
        "[(22, 1),\n (16, 1),\n (10, 3),\n (9, 2),\n (8, 8),\n (7, 15),\n (6, 29),\n (5, 95),\n (4, 309),\n (3, 828)]"
       ],
       "metadata": {}
      }
     ],
     "input": [
      "hist.Largest()"
     ],
     "language": "python",
     "prompt_number": 25
    },
    {
     "cell_type": "markdown",
     "metadata": {},
     "source": [
      "Compare the mean <tt>parity</tt> for high income respondents and others."
     ]
    },
    {
     "cell_type": "code",
     "execution_count": null,
     "metadata": {},
     "outputs": [
      {
       "output_type": "stream",
       "stream": "stdout",
       "text": [
        "1.07586206897 1.22321078111 -0.147348712141 -0.108066858902\n"
       ]
      }
     ],
     "input": [
      "rp = rich.parity.mean()\n",
      "op = resp.parity.mean()\n",
      "dp = rp - op\n",
      "cd = thinkstats2.CohenEffectSize(rich.parity, resp.parity)\n",
      "print(rp, op, dp, cd)"
     ],
     "language": "python",
     "prompt_number": 30
    },
    {
     "cell_type": "markdown",
     "metadata": {},
     "source": [
      "Investigate any other variables that look interesting."
     ]
    },
    {
     "cell_type": "code",
     "execution_count": null,
     "metadata": {},
     "outputs": [],
     "input": [
      "df = chap01soln.ReadFemResp()\n",
      "firsts = df[df.birthord==1]\n",
      "others = df[df.birthord>1]"
     ],
     "language": "python",
     "prompt_number": 3
    },
    {
     "cell_type": "code",
     "execution_count": null,
     "metadata": {},
     "outputs": [],
     "input": [
      ""
     ],
     "language": "python",
     "prompt_number": 3
    }
   ]
  }
 ],
 "cells": [],
 "metadata": {
  "name": "",
  "signature": "sha256:e9dba3eeef0b4bf5343a66ff7b08310c8547a33f148482f64e068ee643078e8d"
 },
 "nbformat": 3,
 "nbformat_minor": 0
}